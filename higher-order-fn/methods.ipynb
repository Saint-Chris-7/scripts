{
 "cells": [
  {
   "attachments": {},
   "cell_type": "markdown",
   "metadata": {},
   "source": [
    "Higher order functions in python functools module"
   ]
  },
  {
   "cell_type": "code",
   "execution_count": 1,
   "metadata": {},
   "outputs": [
    {
     "data": {
      "text/plain": [
       "120"
      ]
     },
     "execution_count": 1,
     "metadata": {},
     "output_type": "execute_result"
    }
   ],
   "source": [
    "import functools\n",
    "\n",
    "@functools.cache\n",
    "def factorial(n):\n",
    "    return n * factorial(n-1) if n else 1\n",
    "\n",
    "factorial(10)# no previously cached result, makes 11 recursive calls\n",
    "factorial(5)# just looks up cached value result"
   ]
  },
  {
   "cell_type": "code",
   "execution_count": null,
   "metadata": {},
   "outputs": [],
   "source": [
    "# lru_cache \n",
    "# it caches computed results of a fn\n",
    "@functools.lru_cache\n",
    "def count_vowels(sentence):\n",
    "    return sum(sentence.count(vowels) for vowels in \"AEIOUaeiou\")\n",
    "\n",
    "count_vowels(\"This is chris great\")\n",
    "count_vowels.cache_info()"
   ]
  },
  {
   "cell_type": "code",
   "execution_count": null,
   "metadata": {},
   "outputs": [],
   "source": [
    "# cached_property\n",
    "# it is used to cache results of  a property method\n",
    "class Admin:\n",
    "    def __init__(self) -> None:\n",
    "        self._password = 399\n",
    "\n",
    "    @functools.cached_property\n",
    "    def increment_password(self):\n",
    "        print(\"performing password increment\")\n",
    "        results = self._password * 4\n",
    "        return results\n",
    "\n",
    "chris = Admin()\n",
    "doe = Admin()\n",
    "print(chris.increment_password)\n",
    "print(doe.increment_password)\n",
    "print(doe.increment_password)\n",
    "print(doe.increment_password)\n"
   ]
  },
  {
   "cell_type": "code",
   "execution_count": 10,
   "metadata": {},
   "outputs": [
    {
     "data": {
      "text/plain": [
       "False"
      ]
     },
     "execution_count": 10,
     "metadata": {},
     "output_type": "execute_result"
    }
   ],
   "source": [
    "#total ordering decorator\n",
    "@functools.total_ordering\n",
    "class Student:\n",
    "    def __init__(self, first_name:str, last_name:str, age:int) -> None:\n",
    "        self.first_name = first_name\n",
    "        self.last_name = last_name\n",
    "        self.age = age\n",
    "    \n",
    "    def _is_valid_attribute(self) -> bool:\n",
    "        return hasattr(self,\"first_name\") and hasattr(self,\"last_name\") and hasattr(self,\"age\")\n",
    "    \n",
    "    def __eq__(self, value: object) -> bool:\n",
    "        if not self._is_valid_attribute():\n",
    "            return NotImplemented\n",
    "        return ((self.age,self.first_name.lower(),self.last_name.lower()) == \n",
    "                (value.age, value.first_name.lower(), value.last_name.lower()))\n",
    "    \n",
    "    def __gt__(self,value) -> bool:\n",
    "        if not self._is_valid_attribute():\n",
    "            return NotImplemented\n",
    "        return ((self.age, self.first_name.lower(), self.last_name.lower()) > \n",
    "                (value.age, value.first_name.lower(), value.last_name.lower()))\n",
    "cath = Student(\"cathie\",\"candy\",20)\n",
    "saint = Student(\"kris\",\"saint\",23)\n",
    "\n",
    "cath > saint"
   ]
  },
  {
   "cell_type": "code",
   "execution_count": 22,
   "metadata": {},
   "outputs": [
    {
     "name": "stdout",
     "output_type": "stream",
     "text": [
      "21\n"
     ]
    }
   ],
   "source": [
    "#partial \n",
    "# as a method \n",
    "from functools import partial\n",
    "def sum(a:int, b:int) ->int:\n",
    "    return a + b \n",
    "\n",
    "partial_object = partial(sum,10)#10 is a in sum(), 10 is the frozen parameter\n",
    "print(partial_object(11))#11 is b in sum()"
   ]
  },
  {
   "cell_type": "code",
   "execution_count": 23,
   "metadata": {},
   "outputs": [
    {
     "name": "stdout",
     "output_type": "stream",
     "text": [
      "{'_is_alive': True}\n"
     ]
    }
   ],
   "source": [
    "# partial methods\n",
    "from functools import partialmethod\n",
    "class Cell:\n",
    "    def __init__(self) -> None:\n",
    "        self._is_alive = False\n",
    "\n",
    "    is_alive = partialmethod(lambda self, value : setattr(self, \"_is_alive\", value))\n",
    "\n",
    "obj = Cell()\n",
    "obj.is_alive(True)\n",
    "print(obj.__dict__)\n",
    "\n",
    "class MyClass:\n",
    "    def __init__(self, x, y):\n",
    "        self.x = x\n",
    "        self.y = y\n",
    "    \n",
    "    # create a partial method that adds a value to x\n",
    "    add_to_x = partialmethod(lambda self, value: setattr(self, 'x', self.x + value))\n",
    "    \n",
    "# create an instance of MyClass\n",
    "obj = MyClass(10, 20)\n",
    "\n",
    "# use the partial method to add 5 to x\n",
    "obj.add_to_x(5)\n",
    "\n",
    "# print the result\n",
    "print(obj.x)   # output: 15\n",
    "\n",
    "\n",
    "        "
   ]
  },
  {
   "cell_type": "code",
   "execution_count": 34,
   "metadata": {},
   "outputs": [
    {
     "name": "stdout",
     "output_type": "stream",
     "text": [
      "362880\n"
     ]
    }
   ],
   "source": [
    "# reduce \n",
    "from functools import reduce\n",
    "\n",
    "arr = [i for i in range(1,10)]\n",
    "product = reduce(lambda x, y: x * y, arr)\n",
    "print(product)"
   ]
  },
  {
   "cell_type": "code",
   "execution_count": 30,
   "metadata": {},
   "outputs": [
    {
     "name": "stdout",
     "output_type": "stream",
     "text": [
      "[0, 1, 2, 3, 4, 5, 6, 7, 8, 9]\n"
     ]
    }
   ],
   "source": []
  }
 ],
 "metadata": {
  "kernelspec": {
   "display_name": "Python 3",
   "language": "python",
   "name": "python3"
  },
  "language_info": {
   "codemirror_mode": {
    "name": "ipython",
    "version": 3
   },
   "file_extension": ".py",
   "mimetype": "text/x-python",
   "name": "python",
   "nbconvert_exporter": "python",
   "pygments_lexer": "ipython3",
   "version": "3.9.1"
  },
  "orig_nbformat": 4
 },
 "nbformat": 4,
 "nbformat_minor": 2
}
